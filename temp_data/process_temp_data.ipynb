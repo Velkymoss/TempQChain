{
 "cells": [
  {
   "cell_type": "code",
   "execution_count": 1,
   "id": "78e09519",
   "metadata": {},
   "outputs": [],
   "source": [
    "import os\n",
    "import pandas as pd\n",
    "\n",
    "from string import Template\n",
    "from statistics import mean\n",
    "from data_utils import read_txt, check_trans_for_pairs, create_story_triplets, create_object_info, get_temporal_question, create_yn, create_fr, create_chain, build_data, save_json\n"
   ]
  },
  {
   "cell_type": "markdown",
   "id": "ee6e851f",
   "metadata": {},
   "source": [
    "## TB-Dense"
   ]
  },
  {
   "cell_type": "markdown",
   "id": "1ac9d108",
   "metadata": {},
   "source": [
    "### Load and preprocess data"
   ]
  },
  {
   "cell_type": "code",
   "execution_count": 2,
   "id": "041ae7bf",
   "metadata": {},
   "outputs": [],
   "source": [
    "# Downloaded from: https://www.usna.edu/Users/cs/nchamber/caevo/#corpus\n",
    "path = \"tb_dense\""
   ]
  },
  {
   "cell_type": "code",
   "execution_count": 3,
   "id": "a793e2d7",
   "metadata": {},
   "outputs": [
    {
     "data": {
      "text/plain": [
       "['APW19980227.0476', 't21', 't0', 's']"
      ]
     },
     "execution_count": 3,
     "metadata": {},
     "output_type": "execute_result"
    }
   ],
   "source": [
    "tb_dense_lines = read_txt(os.path.join(path, \"TimebankDense.full.txt\"))\n",
    "tb_dense_lines[0]"
   ]
  },
  {
   "cell_type": "code",
   "execution_count": 4,
   "id": "cdd89256",
   "metadata": {},
   "outputs": [
    {
     "data": {
      "text/html": [
       "<div>\n",
       "<style scoped>\n",
       "    .dataframe tbody tr th:only-of-type {\n",
       "        vertical-align: middle;\n",
       "    }\n",
       "\n",
       "    .dataframe tbody tr th {\n",
       "        vertical-align: top;\n",
       "    }\n",
       "\n",
       "    .dataframe thead th {\n",
       "        text-align: right;\n",
       "    }\n",
       "</style>\n",
       "<table border=\"1\" class=\"dataframe\">\n",
       "  <thead>\n",
       "    <tr style=\"text-align: right;\">\n",
       "      <th></th>\n",
       "      <th>doc_id</th>\n",
       "      <th>event1_id</th>\n",
       "      <th>event2_id</th>\n",
       "      <th>relation</th>\n",
       "    </tr>\n",
       "  </thead>\n",
       "  <tbody>\n",
       "    <tr>\n",
       "      <th>0</th>\n",
       "      <td>APW19980227.0476</td>\n",
       "      <td>t21</td>\n",
       "      <td>t0</td>\n",
       "      <td>s</td>\n",
       "    </tr>\n",
       "    <tr>\n",
       "      <th>1</th>\n",
       "      <td>APW19980227.0476</td>\n",
       "      <td>t21</td>\n",
       "      <td>e1</td>\n",
       "      <td>i</td>\n",
       "    </tr>\n",
       "    <tr>\n",
       "      <th>2</th>\n",
       "      <td>APW19980227.0476</td>\n",
       "      <td>t21</td>\n",
       "      <td>e1996</td>\n",
       "      <td>a</td>\n",
       "    </tr>\n",
       "    <tr>\n",
       "      <th>3</th>\n",
       "      <td>APW19980227.0476</td>\n",
       "      <td>t21</td>\n",
       "      <td>e2</td>\n",
       "      <td>a</td>\n",
       "    </tr>\n",
       "    <tr>\n",
       "      <th>4</th>\n",
       "      <td>APW19980227.0476</td>\n",
       "      <td>t21</td>\n",
       "      <td>e1997</td>\n",
       "      <td>v</td>\n",
       "    </tr>\n",
       "  </tbody>\n",
       "</table>\n",
       "</div>"
      ],
      "text/plain": [
       "             doc_id event1_id event2_id relation\n",
       "0  APW19980227.0476       t21        t0        s\n",
       "1  APW19980227.0476       t21        e1        i\n",
       "2  APW19980227.0476       t21     e1996        a\n",
       "3  APW19980227.0476       t21        e2        a\n",
       "4  APW19980227.0476       t21     e1997        v"
      ]
     },
     "execution_count": 4,
     "metadata": {},
     "output_type": "execute_result"
    }
   ],
   "source": [
    "tb_dense_df = pd.DataFrame(tb_dense_lines, columns=[\"doc_id\", \"event1_id\", \"event2_id\", \"relation\"])\n",
    "tb_dense_df.head()"
   ]
  },
  {
   "cell_type": "code",
   "execution_count": 5,
   "id": "0762f27c",
   "metadata": {},
   "outputs": [],
   "source": [
    "tb_dense_docs = list(tb_dense_df.doc_id.unique())"
   ]
  },
  {
   "cell_type": "code",
   "execution_count": 6,
   "id": "309d6837",
   "metadata": {},
   "outputs": [
    {
     "name": "stdout",
     "output_type": "stream",
     "text": [
      "There are 36 documents with 12715 relations in total.\n"
     ]
    }
   ],
   "source": [
    "print(\"There are\", len(tb_dense_docs), \"documents with\", len(tb_dense_df), \"relations in total.\")"
   ]
  },
  {
   "cell_type": "code",
   "execution_count": 7,
   "id": "ebbdc0aa",
   "metadata": {},
   "outputs": [
    {
     "data": {
      "text/plain": [
       "array(['s', 'i', 'a', 'v', 'ii', 'b'], dtype=object)"
      ]
     },
     "execution_count": 7,
     "metadata": {},
     "output_type": "execute_result"
    }
   ],
   "source": [
    "tb_dense_df.relation.unique()"
   ]
  },
  {
   "cell_type": "code",
   "execution_count": 8,
   "id": "b7f42c76",
   "metadata": {},
   "outputs": [],
   "source": [
    "rel = {\"s\": \"simultaneous\", \"i\": \"includes\", \"a\": \"after\", \"v\": \"vague\", \"ii\": \"is included\", \"b\": \"before\"}"
   ]
  },
  {
   "cell_type": "code",
   "execution_count": 9,
   "id": "bf9f205a",
   "metadata": {},
   "outputs": [
    {
     "data": {
      "text/html": [
       "<div>\n",
       "<style scoped>\n",
       "    .dataframe tbody tr th:only-of-type {\n",
       "        vertical-align: middle;\n",
       "    }\n",
       "\n",
       "    .dataframe tbody tr th {\n",
       "        vertical-align: top;\n",
       "    }\n",
       "\n",
       "    .dataframe thead th {\n",
       "        text-align: right;\n",
       "    }\n",
       "</style>\n",
       "<table border=\"1\" class=\"dataframe\">\n",
       "  <thead>\n",
       "    <tr style=\"text-align: right;\">\n",
       "      <th></th>\n",
       "      <th>doc_id</th>\n",
       "      <th>event1_id</th>\n",
       "      <th>event2_id</th>\n",
       "      <th>relation</th>\n",
       "    </tr>\n",
       "  </thead>\n",
       "  <tbody>\n",
       "    <tr>\n",
       "      <th>0</th>\n",
       "      <td>APW19980227.0476</td>\n",
       "      <td>t21</td>\n",
       "      <td>t0</td>\n",
       "      <td>simultaneous</td>\n",
       "    </tr>\n",
       "    <tr>\n",
       "      <th>1</th>\n",
       "      <td>APW19980227.0476</td>\n",
       "      <td>t21</td>\n",
       "      <td>e1</td>\n",
       "      <td>includes</td>\n",
       "    </tr>\n",
       "    <tr>\n",
       "      <th>2</th>\n",
       "      <td>APW19980227.0476</td>\n",
       "      <td>t21</td>\n",
       "      <td>e1996</td>\n",
       "      <td>after</td>\n",
       "    </tr>\n",
       "    <tr>\n",
       "      <th>3</th>\n",
       "      <td>APW19980227.0476</td>\n",
       "      <td>t21</td>\n",
       "      <td>e2</td>\n",
       "      <td>after</td>\n",
       "    </tr>\n",
       "    <tr>\n",
       "      <th>4</th>\n",
       "      <td>APW19980227.0476</td>\n",
       "      <td>t21</td>\n",
       "      <td>e1997</td>\n",
       "      <td>vague</td>\n",
       "    </tr>\n",
       "  </tbody>\n",
       "</table>\n",
       "</div>"
      ],
      "text/plain": [
       "             doc_id event1_id event2_id      relation\n",
       "0  APW19980227.0476       t21        t0  simultaneous\n",
       "1  APW19980227.0476       t21        e1      includes\n",
       "2  APW19980227.0476       t21     e1996         after\n",
       "3  APW19980227.0476       t21        e2         after\n",
       "4  APW19980227.0476       t21     e1997         vague"
      ]
     },
     "execution_count": 9,
     "metadata": {},
     "output_type": "execute_result"
    }
   ],
   "source": [
    "tb_dense_df[\"relation\"].replace(rel, inplace=True)\n",
    "tb_dense_df.head()"
   ]
  },
  {
   "cell_type": "code",
   "execution_count": 10,
   "id": "4b6a58ee",
   "metadata": {},
   "outputs": [],
   "source": [
    "# Get pairs and relations of each document\n",
    "doc_pair_relations = []\n",
    "for doc_id in tb_dense_df.doc_id.unique():\n",
    "    doc_tlinks = tb_dense_df.loc[tb_dense_df[\"doc_id\"]==doc_id]\n",
    "    doc_pairs = list(zip(doc_tlinks.event1_id.to_list(), doc_tlinks.event2_id.to_list()))\n",
    "    doc_relations = doc_tlinks.relation.to_list()\n",
    "    doc_pair_relations.append(dict(zip(doc_pairs, doc_tlinks.relation.to_list())))\n"
   ]
  },
  {
   "cell_type": "code",
   "execution_count": 11,
   "id": "555eabdf",
   "metadata": {},
   "outputs": [
    {
     "data": {
      "text/plain": [
       "36"
      ]
     },
     "execution_count": 11,
     "metadata": {},
     "output_type": "execute_result"
    }
   ],
   "source": [
    "len(doc_pair_relations)"
   ]
  },
  {
   "cell_type": "code",
   "execution_count": 12,
   "id": "d9f9330a",
   "metadata": {},
   "outputs": [
    {
     "data": {
      "text/plain": [
       "(('t21', 't0'), 'simultaneous')"
      ]
     },
     "execution_count": 12,
     "metadata": {},
     "output_type": "execute_result"
    }
   ],
   "source": [
    "list(doc_pair_relations[0].items())[0]"
   ]
  },
  {
   "cell_type": "code",
   "execution_count": 13,
   "id": "63a70a6b",
   "metadata": {},
   "outputs": [
    {
     "name": "stdout",
     "output_type": "stream",
     "text": [
      "The number of pairs in a report on average is 353.19444444444446\n"
     ]
    }
   ],
   "source": [
    "num_pairs = []\n",
    "for p in doc_pair_relations:\n",
    "    num_pairs.append(len(p))\n",
    "    \n",
    "print(\"The number of pairs in a report on average is\", mean(num_pairs))"
   ]
  },
  {
   "cell_type": "code",
   "execution_count": 14,
   "id": "b31c2e22",
   "metadata": {},
   "outputs": [
    {
     "name": "stdout",
     "output_type": "stream",
     "text": [
      "Transitivity appears on average: 1292.9722222222222\n"
     ]
    }
   ],
   "source": [
    "# Get trans triples\n",
    "trans_counts = []\n",
    "trans_pairs = []\n",
    "num_trans = []\n",
    "for pr in doc_pair_relations:\n",
    "    report_pairs = list(pr.keys())\n",
    "    t_count, t_pairs = check_trans_for_pairs(report_pairs)\n",
    "    trans_counts.append(t_count)\n",
    "    trans_pairs.append(t_pairs)\n",
    "    for triple in t_pairs:\n",
    "        #if pr[triple[0]] != \"vague\" and pr[triple[1]] != \"vague\" and pr[triple[2]] != \"vague\":\n",
    "        num_trans.append(1)\n",
    "\n",
    "print(\"Transitivity appears on average:\", mean(trans_counts))"
   ]
  },
  {
   "cell_type": "code",
   "execution_count": 15,
   "id": "0998becf",
   "metadata": {},
   "outputs": [
    {
     "name": "stdout",
     "output_type": "stream",
     "text": [
      "There are 46547 transitivity triples\n"
     ]
    }
   ],
   "source": [
    "print(\"There are\", sum(num_trans), \"transitivity triples\")"
   ]
  },
  {
   "cell_type": "code",
   "execution_count": 16,
   "id": "0eee7382",
   "metadata": {},
   "outputs": [
    {
     "data": {
      "text/plain": [
       "1064"
      ]
     },
     "execution_count": 16,
     "metadata": {},
     "output_type": "execute_result"
    }
   ],
   "source": [
    "len(trans_pairs[0])"
   ]
  },
  {
   "cell_type": "code",
   "execution_count": 17,
   "id": "acd79483",
   "metadata": {},
   "outputs": [
    {
     "data": {
      "text/plain": [
       "[('t21', 'e1'), ('e1', 't0'), ('t21', 't0')]"
      ]
     },
     "execution_count": 17,
     "metadata": {},
     "output_type": "execute_result"
    }
   ],
   "source": [
    "trans_pairs[0][0]"
   ]
  },
  {
   "cell_type": "markdown",
   "id": "ed1bd9ce",
   "metadata": {},
   "source": [
    "### Construct story_triplets"
   ]
  },
  {
   "cell_type": "code",
   "execution_count": 18,
   "id": "6d0b772c",
   "metadata": {},
   "outputs": [],
   "source": [
    "doc_story_triplets = create_story_triplets(doc_pair_relations)"
   ]
  },
  {
   "cell_type": "code",
   "execution_count": 19,
   "id": "01463cf8",
   "metadata": {},
   "outputs": [
    {
     "data": {
      "text/plain": [
       "True"
      ]
     },
     "execution_count": 19,
     "metadata": {},
     "output_type": "execute_result"
    }
   ],
   "source": [
    "len(doc_story_triplets[0]) == len(doc_pair_relations[0])"
   ]
  },
  {
   "cell_type": "code",
   "execution_count": 20,
   "id": "5233a741",
   "metadata": {},
   "outputs": [
    {
     "data": {
      "text/plain": [
       "212"
      ]
     },
     "execution_count": 20,
     "metadata": {},
     "output_type": "execute_result"
    }
   ],
   "source": [
    "len(doc_story_triplets[0])"
   ]
  },
  {
   "cell_type": "markdown",
   "id": "01ddde8a",
   "metadata": {},
   "source": [
    "### Construct objects_info"
   ]
  },
  {
   "cell_type": "code",
   "execution_count": 21,
   "id": "89740f7d",
   "metadata": {},
   "outputs": [],
   "source": [
    "doc_objects_info = create_object_info(tb_dense_df)"
   ]
  },
  {
   "cell_type": "code",
   "execution_count": 22,
   "id": "a6a73bb7",
   "metadata": {},
   "outputs": [
    {
     "data": {
      "text/plain": [
       "36"
      ]
     },
     "execution_count": 22,
     "metadata": {},
     "output_type": "execute_result"
    }
   ],
   "source": [
    "len(doc_objects_info)"
   ]
  },
  {
   "cell_type": "code",
   "execution_count": 23,
   "id": "e2284b36",
   "metadata": {},
   "outputs": [
    {
     "data": {
      "text/plain": [
       "('t21', {'name': '', 'full_name': ''})"
      ]
     },
     "execution_count": 23,
     "metadata": {},
     "output_type": "execute_result"
    }
   ],
   "source": [
    "list(doc_objects_info[0].items())[0]"
   ]
  },
  {
   "cell_type": "markdown",
   "id": "28411e82",
   "metadata": {},
   "source": [
    "### Construct chains"
   ]
  },
  {
   "cell_type": "code",
   "execution_count": 24,
   "id": "e8069558",
   "metadata": {},
   "outputs": [],
   "source": [
    "inverse = {\"before\": \"after\",\n",
    "           \"after\": \"before\",\n",
    "           \"includes\": \"is included\",\n",
    "           \"is included\": \"includes\",\n",
    "           \"overlap\": \"overlap\",\n",
    "           \"simultaneous\": \"simultaneous\",\n",
    "           \"vague\": \"vague\"\n",
    "          }\n",
    "\n",
    "trans_triples = trans_pairs"
   ]
  },
  {
   "cell_type": "code",
   "execution_count": 25,
   "id": "a2d4119c",
   "metadata": {},
   "outputs": [],
   "source": [
    "doc_chains = create_chain(doc_pair_relations, trans_pairs, inverse)"
   ]
  },
  {
   "cell_type": "code",
   "execution_count": 26,
   "id": "25f90ba8",
   "metadata": {},
   "outputs": [
    {
     "data": {
      "text/plain": [
       "212"
      ]
     },
     "execution_count": 26,
     "metadata": {},
     "output_type": "execute_result"
    }
   ],
   "source": [
    "len(doc_chains[0])"
   ]
  },
  {
   "cell_type": "code",
   "execution_count": 27,
   "id": "17b59d26",
   "metadata": {},
   "outputs": [
    {
     "data": {
      "text/plain": [
       "[(('t21', 't0'),\n",
       "  {'num_facts': 2,\n",
       "   'reasoning_steps': 1,\n",
       "   'chain': [[('t21', 'e1'),\n",
       "     {'relation_type': 'includes', 'relation_property': ''}],\n",
       "    [('e1', 't0'), {'relation_type': 'is included', 'relation_property': ''}]],\n",
       "   'goal_chain': [['t21',\n",
       "     'e1',\n",
       "     {'relation_type': 'includes', 'relation_property': ''}],\n",
       "    ['e1', 't0', {'relation_type': 'is included', 'relation_property': ''}]]}),\n",
       " (('t21', 'e1'),\n",
       "  {'num_facts': 1,\n",
       "   'reasoning_steps': 1,\n",
       "   'chain': [[['e1', 't21'],\n",
       "     {'relation_type': 'is included', 'relation_property': ''}]],\n",
       "   'goal_chain': [['t21',\n",
       "     'e1',\n",
       "     {'relation_type': 'includes', 'relation_property': ''}]]}),\n",
       " (('t21', 'e1996'),\n",
       "  {'num_facts': 2,\n",
       "   'reasoning_steps': 1,\n",
       "   'chain': [[('t21', 'e1'),\n",
       "     {'relation_type': 'includes', 'relation_property': ''}],\n",
       "    [('e1', 'e1996'), {'relation_type': 'after', 'relation_property': ''}]],\n",
       "   'goal_chain': [['t21',\n",
       "     'e1',\n",
       "     {'relation_type': 'includes', 'relation_property': ''}],\n",
       "    ['e1', 'e1996', {'relation_type': 'after', 'relation_property': ''}]]}),\n",
       " (('t21', 'e2'),\n",
       "  {'num_facts': 2,\n",
       "   'reasoning_steps': 1,\n",
       "   'chain': [[('t21', 'e1'),\n",
       "     {'relation_type': 'includes', 'relation_property': ''}],\n",
       "    [('e1', 'e2'), {'relation_type': 'after', 'relation_property': ''}]],\n",
       "   'goal_chain': [['t21',\n",
       "     'e1',\n",
       "     {'relation_type': 'includes', 'relation_property': ''}],\n",
       "    ['e1', 'e2', {'relation_type': 'after', 'relation_property': ''}]]}),\n",
       " (('t21', 'e1997'),\n",
       "  {'num_facts': 2,\n",
       "   'reasoning_steps': 1,\n",
       "   'chain': [[('t21', 'e1'),\n",
       "     {'relation_type': 'includes', 'relation_property': ''}],\n",
       "    [('e1', 'e1997'), {'relation_type': 'vague', 'relation_property': ''}]],\n",
       "   'goal_chain': [['t21',\n",
       "     'e1',\n",
       "     {'relation_type': 'includes', 'relation_property': ''}],\n",
       "    ['e1', 'e1997', {'relation_type': 'vague', 'relation_property': ''}]]}),\n",
       " (('t21', 'e3'),\n",
       "  {'num_facts': 2,\n",
       "   'reasoning_steps': 1,\n",
       "   'chain': [[('t21', 'e1'),\n",
       "     {'relation_type': 'includes', 'relation_property': ''}],\n",
       "    [('e1', 'e3'), {'relation_type': 'is included', 'relation_property': ''}]],\n",
       "   'goal_chain': [['t21',\n",
       "     'e1',\n",
       "     {'relation_type': 'includes', 'relation_property': ''}],\n",
       "    ['e1', 'e3', {'relation_type': 'is included', 'relation_property': ''}]]}),\n",
       " (('t21', 'e4'),\n",
       "  {'num_facts': 2,\n",
       "   'reasoning_steps': 1,\n",
       "   'chain': [[('t21', 'e1'),\n",
       "     {'relation_type': 'includes', 'relation_property': ''}],\n",
       "    [('e1', 'e4'), {'relation_type': 'after', 'relation_property': ''}]],\n",
       "   'goal_chain': [['t21',\n",
       "     'e1',\n",
       "     {'relation_type': 'includes', 'relation_property': ''}],\n",
       "    ['e1', 'e4', {'relation_type': 'after', 'relation_property': ''}]]}),\n",
       " (('t21', 't22'),\n",
       "  {'num_facts': 2,\n",
       "   'reasoning_steps': 1,\n",
       "   'chain': [[('t21', 'e1'),\n",
       "     {'relation_type': 'includes', 'relation_property': ''}],\n",
       "    [('e1', 't22'), {'relation_type': 'after', 'relation_property': ''}]],\n",
       "   'goal_chain': [['t21',\n",
       "     'e1',\n",
       "     {'relation_type': 'includes', 'relation_property': ''}],\n",
       "    ['e1', 't22', {'relation_type': 'after', 'relation_property': ''}]]}),\n",
       " (('t21', 'e5'),\n",
       "  {'num_facts': 2,\n",
       "   'reasoning_steps': 1,\n",
       "   'chain': [[('t21', 'e1'),\n",
       "     {'relation_type': 'includes', 'relation_property': ''}],\n",
       "    [('e1', 'e5'), {'relation_type': 'after', 'relation_property': ''}]],\n",
       "   'goal_chain': [['t21',\n",
       "     'e1',\n",
       "     {'relation_type': 'includes', 'relation_property': ''}],\n",
       "    ['e1', 'e5', {'relation_type': 'after', 'relation_property': ''}]]}),\n",
       " (('t21', 'e6'),\n",
       "  {'num_facts': 2,\n",
       "   'reasoning_steps': 1,\n",
       "   'chain': [[('t21', 'e1'),\n",
       "     {'relation_type': 'includes', 'relation_property': ''}],\n",
       "    [('e1', 'e6'), {'relation_type': 'is included', 'relation_property': ''}]],\n",
       "   'goal_chain': [['t21',\n",
       "     'e1',\n",
       "     {'relation_type': 'includes', 'relation_property': ''}],\n",
       "    ['e1', 'e6', {'relation_type': 'is included', 'relation_property': ''}]]}),\n",
       " (('t21', 'e8'),\n",
       "  {'num_facts': 2,\n",
       "   'reasoning_steps': 1,\n",
       "   'chain': [[('t21', 'e1'),\n",
       "     {'relation_type': 'includes', 'relation_property': ''}],\n",
       "    [('e1', 'e8'), {'relation_type': 'before', 'relation_property': ''}]],\n",
       "   'goal_chain': [['t21',\n",
       "     'e1',\n",
       "     {'relation_type': 'includes', 'relation_property': ''}],\n",
       "    ['e1', 'e8', {'relation_type': 'before', 'relation_property': ''}]]}),\n",
       " (('t21', 'e1998'),\n",
       "  {'num_facts': 2,\n",
       "   'reasoning_steps': 1,\n",
       "   'chain': [[('t21', 'e1'),\n",
       "     {'relation_type': 'includes', 'relation_property': ''}],\n",
       "    [('e1', 'e1998'),\n",
       "     {'relation_type': 'simultaneous', 'relation_property': ''}]],\n",
       "   'goal_chain': [['t21',\n",
       "     'e1',\n",
       "     {'relation_type': 'includes', 'relation_property': ''}],\n",
       "    ['e1',\n",
       "     'e1998',\n",
       "     {'relation_type': 'simultaneous', 'relation_property': ''}]]}),\n",
       " (('t21', 'e9'),\n",
       "  {'num_facts': 2,\n",
       "   'reasoning_steps': 1,\n",
       "   'chain': [[('t21', 'e1'),\n",
       "     {'relation_type': 'includes', 'relation_property': ''}],\n",
       "    [('e1', 'e9'), {'relation_type': 'before', 'relation_property': ''}]],\n",
       "   'goal_chain': [['t21',\n",
       "     'e1',\n",
       "     {'relation_type': 'includes', 'relation_property': ''}],\n",
       "    ['e1', 'e9', {'relation_type': 'before', 'relation_property': ''}]]}),\n",
       " (('t21', 'e10'),\n",
       "  {'num_facts': 2,\n",
       "   'reasoning_steps': 1,\n",
       "   'chain': [[('t21', 'e1'),\n",
       "     {'relation_type': 'includes', 'relation_property': ''}],\n",
       "    [('e1', 'e10'), {'relation_type': 'before', 'relation_property': ''}]],\n",
       "   'goal_chain': [['t21',\n",
       "     'e1',\n",
       "     {'relation_type': 'includes', 'relation_property': ''}],\n",
       "    ['e1', 'e10', {'relation_type': 'before', 'relation_property': ''}]]}),\n",
       " (('t21', 'e1999'),\n",
       "  {'num_facts': 2,\n",
       "   'reasoning_steps': 1,\n",
       "   'chain': [[('t21', 'e1'),\n",
       "     {'relation_type': 'includes', 'relation_property': ''}],\n",
       "    [('e1', 'e1999'), {'relation_type': 'before', 'relation_property': ''}]],\n",
       "   'goal_chain': [['t21',\n",
       "     'e1',\n",
       "     {'relation_type': 'includes', 'relation_property': ''}],\n",
       "    ['e1', 'e1999', {'relation_type': 'before', 'relation_property': ''}]]}),\n",
       " (('e1', 't0'),\n",
       "  {'num_facts': 2,\n",
       "   'reasoning_steps': 1,\n",
       "   'chain': [[('e1', 'e1996'),\n",
       "     {'relation_type': 'after', 'relation_property': ''}],\n",
       "    [('e1996', 't0'), {'relation_type': 'before', 'relation_property': ''}]],\n",
       "   'goal_chain': [['e1',\n",
       "     'e1996',\n",
       "     {'relation_type': 'after', 'relation_property': ''}],\n",
       "    ['e1996', 't0', {'relation_type': 'before', 'relation_property': ''}]]}),\n",
       " (('e1', 'e1996'),\n",
       "  {'num_facts': 2,\n",
       "   'reasoning_steps': 2,\n",
       "   'chain': [[('t21', 'e1'),\n",
       "     {'relation_type': 'includes', 'relation_property': ''}],\n",
       "    [('t21', 'e1996'), {'relation_type': 'after', 'relation_property': ''}]],\n",
       "   'goal_chain': [['e1',\n",
       "     't21',\n",
       "     {'relation_type': 'is included', 'relation_property': ''}]]}),\n",
       " (('e1', 'e2'),\n",
       "  {'num_facts': 2,\n",
       "   'reasoning_steps': 1,\n",
       "   'chain': [[('e1', 'e1996'),\n",
       "     {'relation_type': 'after', 'relation_property': ''}],\n",
       "    [('e1996', 'e2'), {'relation_type': 'vague', 'relation_property': ''}]],\n",
       "   'goal_chain': [['e1',\n",
       "     'e1996',\n",
       "     {'relation_type': 'after', 'relation_property': ''}],\n",
       "    ['e1996', 'e2', {'relation_type': 'vague', 'relation_property': ''}]]}),\n",
       " (('e1', 'e1997'),\n",
       "  {'num_facts': 2,\n",
       "   'reasoning_steps': 1,\n",
       "   'chain': [[('e1', 'e1996'),\n",
       "     {'relation_type': 'after', 'relation_property': ''}],\n",
       "    [('e1996', 'e1997'), {'relation_type': 'vague', 'relation_property': ''}]],\n",
       "   'goal_chain': [['e1',\n",
       "     'e1996',\n",
       "     {'relation_type': 'after', 'relation_property': ''}],\n",
       "    ['e1996', 'e1997', {'relation_type': 'vague', 'relation_property': ''}]]}),\n",
       " (('e1', 'e3'),\n",
       "  {'num_facts': 2,\n",
       "   'reasoning_steps': 1,\n",
       "   'chain': [[('e1', 'e1996'),\n",
       "     {'relation_type': 'after', 'relation_property': ''}],\n",
       "    [('e1996', 'e3'),\n",
       "     {'relation_type': 'is included', 'relation_property': ''}]],\n",
       "   'goal_chain': [['e1',\n",
       "     'e1996',\n",
       "     {'relation_type': 'after', 'relation_property': ''}],\n",
       "    ['e1996',\n",
       "     'e3',\n",
       "     {'relation_type': 'is included', 'relation_property': ''}]]})]"
      ]
     },
     "execution_count": 27,
     "metadata": {},
     "output_type": "execute_result"
    }
   ],
   "source": [
    "list(doc_chains[0].items())[:20]"
   ]
  },
  {
   "cell_type": "markdown",
   "id": "6792a0f9",
   "metadata": {},
   "source": [
    "### Construct questions"
   ]
  },
  {
   "cell_type": "code",
   "execution_count": 28,
   "id": "09bb0e0b",
   "metadata": {},
   "outputs": [
    {
     "data": {
      "text/plain": [
       "['simultaneous', 'includes', 'after', 'vague', 'is included', 'before']"
      ]
     },
     "execution_count": 28,
     "metadata": {},
     "output_type": "execute_result"
    }
   ],
   "source": [
    "relation_set = list(tb_dense_df.relation.unique())\n",
    "relation_set"
   ]
  },
  {
   "cell_type": "code",
   "execution_count": 29,
   "id": "d1c415e5",
   "metadata": {},
   "outputs": [],
   "source": [
    "doc_questions = []\n",
    "for doc_index, doc_id in enumerate(tb_dense_df.doc_id.unique()):\n",
    "    # Get each document's tlinks\n",
    "    doc_tlinks = tb_dense_df.loc[tb_dense_df[\"doc_id\"] == doc_id]\n",
    "    \n",
    "    questions = []\n",
    "    \n",
    "    # Create the question counter\n",
    "    q_id = 0\n",
    "    for index, row in doc_tlinks.iterrows():\n",
    "        # Get the pair of events\n",
    "        query = (row[\"event1_id\"], row[\"event2_id\"])\n",
    "        \n",
    "        # Add YN question (one for each relation)\n",
    "        yn_questions, yn_answers = create_yn(query, row[\"relation\"], relation_set)\n",
    "        \n",
    "        for i, yn_question in enumerate(yn_questions):\n",
    "            question_info = {\"num_facts\": doc_chains[doc_index][query][\"num_facts\"],\n",
    "                \"reasoning_steps\": doc_chains[doc_index][query][\"reasoning_steps\"],\n",
    "                \"asked_relation\": relation_set[i],\n",
    "                \"all_relations\": [row[\"relation\"]],\n",
    "                \"target_relation\": [row[\"relation\"]],\n",
    "                \"chain\": doc_chains[doc_index][query][\"chain\"],\n",
    "                \"goal_chain\": doc_chains[doc_index][query][\"goal_chain\"]\n",
    "                }\n",
    "            \n",
    "            questions.append({\"q_id\": q_id,\n",
    "                        \"q_type\": \"YN\",\n",
    "                        \"query\": query,\n",
    "                        \"question_info\": question_info,\n",
    "                        \"question\": yn_question,\n",
    "                        \"answer\": yn_answers[i],\n",
    "                        \"candidate_answers\": [\"Yes\", \"No\"]\n",
    "                        })\n",
    "            q_id += 1\n",
    "        \n",
    "        # Add the FR question\n",
    "        question, answer = create_fr(query, row[\"relation\"])\n",
    "        question_info = {\"num_facts\": doc_chains[doc_index][query][\"num_facts\"],\n",
    "                \"reasoning_steps\": doc_chains[doc_index][query][\"reasoning_steps\"],\n",
    "                \"asked_relation\": [row[\"relation\"]],\n",
    "                \"all_relations\": [row[\"relation\"]],\n",
    "                \"target_relation\": [row[\"relation\"]],\n",
    "                \"chain\": doc_chains[doc_index][query][\"chain\"],\n",
    "                \"goal_chain\": doc_chains[doc_index][query][\"goal_chain\"]\n",
    "                }\n",
    "\n",
    "        questions.append({\"q_id\": q_id,\n",
    "            \"q_type\": \"FR\",\n",
    "            \"query\": query,\n",
    "            \"question_info\": question_info,\n",
    "            \"question\": question,\n",
    "            \"answer\": answer,\n",
    "            \"candidate_answers\": relation_set\n",
    "            })\n",
    "        q_id += 1\n",
    "    \n",
    "    doc_questions.append(questions)\n",
    "    \n",
    "    "
   ]
  },
  {
   "cell_type": "code",
   "execution_count": 30,
   "id": "1c3b9254",
   "metadata": {},
   "outputs": [
    {
     "data": {
      "text/plain": [
       "36"
      ]
     },
     "execution_count": 30,
     "metadata": {},
     "output_type": "execute_result"
    }
   ],
   "source": [
    "len(doc_questions)"
   ]
  },
  {
   "cell_type": "code",
   "execution_count": 31,
   "id": "24a6e982",
   "metadata": {},
   "outputs": [
    {
     "data": {
      "text/plain": [
       "1484"
      ]
     },
     "execution_count": 31,
     "metadata": {},
     "output_type": "execute_result"
    }
   ],
   "source": [
    "len(doc_questions[0])"
   ]
  },
  {
   "cell_type": "code",
   "execution_count": 32,
   "id": "e7edc456",
   "metadata": {},
   "outputs": [
    {
     "data": {
      "text/plain": [
       "[('q_id', 6),\n",
       " ('q_type', 'FR'),\n",
       " ('query', ('t21', 't0')),\n",
       " ('question_info',\n",
       "  {'num_facts': 2,\n",
       "   'reasoning_steps': 1,\n",
       "   'asked_relation': ['simultaneous'],\n",
       "   'all_relations': ['simultaneous'],\n",
       "   'target_relation': ['simultaneous'],\n",
       "   'chain': [[('t21', 'e1'),\n",
       "     {'relation_type': 'includes', 'relation_property': ''}],\n",
       "    [('e1', 't0'), {'relation_type': 'is included', 'relation_property': ''}]],\n",
       "   'goal_chain': [['t21',\n",
       "     'e1',\n",
       "     {'relation_type': 'includes', 'relation_property': ''}],\n",
       "    ['e1', 't0', {'relation_type': 'is included', 'relation_property': ''}]]}),\n",
       " ('question', 'When did t21 happen in time compared to t0?'),\n",
       " ('answer', ['simultaneous']),\n",
       " ('candidate_answers',\n",
       "  ['simultaneous', 'includes', 'after', 'vague', 'is included', 'before'])]"
      ]
     },
     "execution_count": 32,
     "metadata": {},
     "output_type": "execute_result"
    }
   ],
   "source": [
    "list(doc_questions[0][6].items())"
   ]
  },
  {
   "cell_type": "markdown",
   "id": "4fb87ad0",
   "metadata": {},
   "source": [
    "### Save to json"
   ]
  },
  {
   "cell_type": "code",
   "execution_count": 33,
   "id": "341786bf",
   "metadata": {},
   "outputs": [],
   "source": [
    "data = build_data(tb_dense_docs, doc_story_triplets, doc_questions, doc_objects_info)"
   ]
  },
  {
   "cell_type": "code",
   "execution_count": 34,
   "id": "d7ca5fb9",
   "metadata": {},
   "outputs": [
    {
     "data": {
      "text/plain": [
       "36"
      ]
     },
     "execution_count": 34,
     "metadata": {},
     "output_type": "execute_result"
    }
   ],
   "source": [
    "len(data)"
   ]
  },
  {
   "cell_type": "code",
   "execution_count": 35,
   "id": "8596b86b",
   "metadata": {},
   "outputs": [],
   "source": [
    "save_json(path, \"tb_dense.json\", data)"
   ]
  },
  {
   "cell_type": "markdown",
   "id": "3870b2d7",
   "metadata": {},
   "source": [
    "### Split to train, dev and test"
   ]
  },
  {
   "cell_type": "code",
   "execution_count": null,
   "id": "3dcbc9e0",
   "metadata": {},
   "outputs": [],
   "source": [
    "# Taken from CAEVO github repo: https://github.com/nchambers/caevo/blob/master/src/main/java/caevo/Evaluate.java\n",
    "devDocs = [\"APW19980227.0487.tml\",\n",
    "      \"CNN19980223.1130.0960.tml\", \"NYT19980212.0019.tml\",\n",
    "      \"PRI19980216.2000.0170.tml\", \"ed980111.1130.0089.tml\"]"
   ]
  },
  {
   "cell_type": "code",
   "execution_count": null,
   "id": "ce1de747",
   "metadata": {},
   "outputs": [],
   "source": [
    "testDocs = [\"APW19980227.0489.tml\",\n",
    "      \"APW19980227.0494.tml\", \"APW19980308.0201.tml\", \"APW19980418.0210.tml\",\n",
    "      \"CNN19980126.1600.1104.tml\", \"CNN19980213.2130.0155.tml\",\n",
    "      \"NYT19980402.0453.tml\", \"PRI19980115.2000.0186.tml\",\n",
    "      \"PRI19980306.2000.1675.tml\"]"
   ]
  },
  {
   "cell_type": "code",
   "execution_count": null,
   "id": "6cd70c4c",
   "metadata": {},
   "outputs": [],
   "source": []
  },
  {
   "cell_type": "code",
   "execution_count": null,
   "id": "bc8b9082",
   "metadata": {},
   "outputs": [],
   "source": []
  },
  {
   "cell_type": "code",
   "execution_count": null,
   "id": "3104c80c",
   "metadata": {},
   "outputs": [],
   "source": []
  },
  {
   "cell_type": "code",
   "execution_count": null,
   "id": "4dd8d9b5",
   "metadata": {},
   "outputs": [],
   "source": []
  },
  {
   "cell_type": "code",
   "execution_count": null,
   "id": "3551f49b",
   "metadata": {},
   "outputs": [],
   "source": []
  },
  {
   "cell_type": "code",
   "execution_count": null,
   "id": "ffca399c",
   "metadata": {},
   "outputs": [],
   "source": []
  },
  {
   "cell_type": "code",
   "execution_count": null,
   "id": "715c4f29",
   "metadata": {},
   "outputs": [],
   "source": []
  },
  {
   "cell_type": "code",
   "execution_count": null,
   "id": "7d596413",
   "metadata": {},
   "outputs": [],
   "source": []
  },
  {
   "cell_type": "code",
   "execution_count": null,
   "id": "4a625a22",
   "metadata": {},
   "outputs": [],
   "source": []
  },
  {
   "cell_type": "code",
   "execution_count": null,
   "id": "83400948",
   "metadata": {},
   "outputs": [],
   "source": []
  }
 ],
 "metadata": {
  "kernelspec": {
   "display_name": "Python 3 (ipykernel)",
   "language": "python",
   "name": "python3"
  },
  "language_info": {
   "codemirror_mode": {
    "name": "ipython",
    "version": 3
   },
   "file_extension": ".py",
   "mimetype": "text/x-python",
   "name": "python",
   "nbconvert_exporter": "python",
   "pygments_lexer": "ipython3",
   "version": "3.11.3"
  }
 },
 "nbformat": 4,
 "nbformat_minor": 5
}
